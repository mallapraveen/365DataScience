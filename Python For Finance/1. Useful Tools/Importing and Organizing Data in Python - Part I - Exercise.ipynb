{
 "cells": [
  {
   "cell_type": "code",
   "execution_count": 37,
   "metadata": {},
   "outputs": [],
   "source": [
    "import pandas as pd\n",
    "import numpy as np\n",
    "from pandas_datareader import data as wb"
   ]
  },
  {
   "cell_type": "markdown",
   "metadata": {},
   "source": [
    "## Importing and Organizing Your Data in Python - Part I"
   ]
  },
  {
   "cell_type": "markdown",
   "metadata": {},
   "source": [
    "*Suggested Answers follow (usually there are multiple ways to solve a problem in Python).*"
   ]
  },
  {
   "cell_type": "markdown",
   "metadata": {},
   "source": [
    "a. Create a series object of 10 randomly generated integer values."
   ]
  },
  {
   "cell_type": "code",
   "execution_count": 33,
   "metadata": {},
   "outputs": [],
   "source": [
    "a = pd.Series(np.random.randint(low=0,high=100,size=10),name='Column 01')"
   ]
  },
  {
   "cell_type": "code",
   "execution_count": 34,
   "metadata": {},
   "outputs": [
    {
     "data": {
      "text/plain": [
       "0    82\n",
       "1    55\n",
       "2    96\n",
       "3    96\n",
       "4    10\n",
       "5    15\n",
       "6    17\n",
       "7    30\n",
       "8    80\n",
       "9    98\n",
       "Name: Column 01, dtype: int32"
      ]
     },
     "execution_count": 34,
     "metadata": {},
     "output_type": "execute_result"
    }
   ],
   "source": [
    "a"
   ]
  },
  {
   "cell_type": "markdown",
   "metadata": {},
   "source": [
    "b. Extract data from Yahoo Finance for Ford from the 1st of January 2005. The ticker you need is ‘F’. "
   ]
  },
  {
   "cell_type": "code",
   "execution_count": 42,
   "metadata": {},
   "outputs": [],
   "source": [
    "a = wb.DataReader(name='F',data_source='yahoo',start='2005-1-1')"
   ]
  },
  {
   "cell_type": "code",
   "execution_count": 43,
   "metadata": {},
   "outputs": [
    {
     "data": {
      "text/html": [
       "<div>\n",
       "<style scoped>\n",
       "    .dataframe tbody tr th:only-of-type {\n",
       "        vertical-align: middle;\n",
       "    }\n",
       "\n",
       "    .dataframe tbody tr th {\n",
       "        vertical-align: top;\n",
       "    }\n",
       "\n",
       "    .dataframe thead th {\n",
       "        text-align: right;\n",
       "    }\n",
       "</style>\n",
       "<table border=\"1\" class=\"dataframe\">\n",
       "  <thead>\n",
       "    <tr style=\"text-align: right;\">\n",
       "      <th></th>\n",
       "      <th>High</th>\n",
       "      <th>Low</th>\n",
       "      <th>Open</th>\n",
       "      <th>Close</th>\n",
       "      <th>Volume</th>\n",
       "      <th>Adj Close</th>\n",
       "    </tr>\n",
       "    <tr>\n",
       "      <th>Date</th>\n",
       "      <th></th>\n",
       "      <th></th>\n",
       "      <th></th>\n",
       "      <th></th>\n",
       "      <th></th>\n",
       "      <th></th>\n",
       "    </tr>\n",
       "  </thead>\n",
       "  <tbody>\n",
       "    <tr>\n",
       "      <th>2004-12-31</th>\n",
       "      <td>14.80</td>\n",
       "      <td>14.59</td>\n",
       "      <td>14.75</td>\n",
       "      <td>14.64</td>\n",
       "      <td>3663700.0</td>\n",
       "      <td>9.227711</td>\n",
       "    </tr>\n",
       "    <tr>\n",
       "      <th>2005-01-03</th>\n",
       "      <td>14.75</td>\n",
       "      <td>14.51</td>\n",
       "      <td>14.66</td>\n",
       "      <td>14.71</td>\n",
       "      <td>9852200.0</td>\n",
       "      <td>9.271832</td>\n",
       "    </tr>\n",
       "    <tr>\n",
       "      <th>2005-01-04</th>\n",
       "      <td>14.75</td>\n",
       "      <td>14.59</td>\n",
       "      <td>14.71</td>\n",
       "      <td>14.66</td>\n",
       "      <td>9035400.0</td>\n",
       "      <td>9.240316</td>\n",
       "    </tr>\n",
       "    <tr>\n",
       "      <th>2005-01-05</th>\n",
       "      <td>14.66</td>\n",
       "      <td>14.42</td>\n",
       "      <td>14.63</td>\n",
       "      <td>14.43</td>\n",
       "      <td>11376200.0</td>\n",
       "      <td>9.095345</td>\n",
       "    </tr>\n",
       "    <tr>\n",
       "      <th>2005-01-06</th>\n",
       "      <td>14.52</td>\n",
       "      <td>14.37</td>\n",
       "      <td>14.40</td>\n",
       "      <td>14.45</td>\n",
       "      <td>6672600.0</td>\n",
       "      <td>9.107948</td>\n",
       "    </tr>\n",
       "  </tbody>\n",
       "</table>\n",
       "</div>"
      ],
      "text/plain": [
       "             High    Low   Open  Close      Volume  Adj Close\n",
       "Date                                                         \n",
       "2004-12-31  14.80  14.59  14.75  14.64   3663700.0   9.227711\n",
       "2005-01-03  14.75  14.51  14.66  14.71   9852200.0   9.271832\n",
       "2005-01-04  14.75  14.59  14.71  14.66   9035400.0   9.240316\n",
       "2005-01-05  14.66  14.42  14.63  14.43  11376200.0   9.095345\n",
       "2005-01-06  14.52  14.37  14.40  14.45   6672600.0   9.107948"
      ]
     },
     "execution_count": 43,
     "metadata": {},
     "output_type": "execute_result"
    }
   ],
   "source": [
    "a.head()"
   ]
  },
  {
   "cell_type": "code",
   "execution_count": null,
   "metadata": {},
   "outputs": [],
   "source": []
  }
 ],
 "metadata": {
  "kernelspec": {
   "display_name": "Python 3",
   "language": "python",
   "name": "python3"
  },
  "language_info": {
   "codemirror_mode": {
    "name": "ipython",
    "version": 3
   },
   "file_extension": ".py",
   "mimetype": "text/x-python",
   "name": "python",
   "nbconvert_exporter": "python",
   "pygments_lexer": "ipython3",
   "version": "3.8.8"
  }
 },
 "nbformat": 4,
 "nbformat_minor": 4
}
