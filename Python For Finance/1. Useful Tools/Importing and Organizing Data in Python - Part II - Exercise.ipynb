{
 "cells": [
  {
   "cell_type": "code",
   "execution_count": 10,
   "metadata": {},
   "outputs": [],
   "source": [
    "import pandas as pd\n",
    "import numpy as py"
   ]
  },
  {
   "cell_type": "markdown",
   "metadata": {},
   "source": [
    "## Importing and Organizing Your Data in Python - Part II"
   ]
  },
  {
   "cell_type": "code",
   "execution_count": 4,
   "metadata": {},
   "outputs": [
    {
     "data": {
      "text/html": [
       "<div>\n",
       "<style scoped>\n",
       "    .dataframe tbody tr th:only-of-type {\n",
       "        vertical-align: middle;\n",
       "    }\n",
       "\n",
       "    .dataframe tbody tr th {\n",
       "        vertical-align: top;\n",
       "    }\n",
       "\n",
       "    .dataframe thead th {\n",
       "        text-align: right;\n",
       "    }\n",
       "</style>\n",
       "<table border=\"1\" class=\"dataframe\">\n",
       "  <thead>\n",
       "    <tr style=\"text-align: right;\">\n",
       "      <th></th>\n",
       "      <th>High</th>\n",
       "      <th>Low</th>\n",
       "      <th>Open</th>\n",
       "      <th>Close</th>\n",
       "      <th>Volume</th>\n",
       "      <th>Adj Close</th>\n",
       "    </tr>\n",
       "    <tr>\n",
       "      <th>Date</th>\n",
       "      <th></th>\n",
       "      <th></th>\n",
       "      <th></th>\n",
       "      <th></th>\n",
       "      <th></th>\n",
       "      <th></th>\n",
       "    </tr>\n",
       "  </thead>\n",
       "  <tbody>\n",
       "    <tr>\n",
       "      <th>2004-12-31</th>\n",
       "      <td>14.80</td>\n",
       "      <td>14.59</td>\n",
       "      <td>14.75</td>\n",
       "      <td>14.64</td>\n",
       "      <td>3663700.0</td>\n",
       "      <td>9.227711</td>\n",
       "    </tr>\n",
       "    <tr>\n",
       "      <th>2005-01-03</th>\n",
       "      <td>14.75</td>\n",
       "      <td>14.51</td>\n",
       "      <td>14.66</td>\n",
       "      <td>14.71</td>\n",
       "      <td>9852200.0</td>\n",
       "      <td>9.271832</td>\n",
       "    </tr>\n",
       "    <tr>\n",
       "      <th>2005-01-04</th>\n",
       "      <td>14.75</td>\n",
       "      <td>14.59</td>\n",
       "      <td>14.71</td>\n",
       "      <td>14.66</td>\n",
       "      <td>9035400.0</td>\n",
       "      <td>9.240316</td>\n",
       "    </tr>\n",
       "    <tr>\n",
       "      <th>2005-01-05</th>\n",
       "      <td>14.66</td>\n",
       "      <td>14.42</td>\n",
       "      <td>14.63</td>\n",
       "      <td>14.43</td>\n",
       "      <td>11376200.0</td>\n",
       "      <td>9.095345</td>\n",
       "    </tr>\n",
       "    <tr>\n",
       "      <th>2005-01-06</th>\n",
       "      <td>14.52</td>\n",
       "      <td>14.37</td>\n",
       "      <td>14.40</td>\n",
       "      <td>14.45</td>\n",
       "      <td>6672600.0</td>\n",
       "      <td>9.107950</td>\n",
       "    </tr>\n",
       "  </tbody>\n",
       "</table>\n",
       "</div>"
      ],
      "text/plain": [
       "             High    Low   Open  Close      Volume  Adj Close\n",
       "Date                                                         \n",
       "2004-12-31  14.80  14.59  14.75  14.64   3663700.0   9.227711\n",
       "2005-01-03  14.75  14.51  14.66  14.71   9852200.0   9.271832\n",
       "2005-01-04  14.75  14.59  14.71  14.66   9035400.0   9.240316\n",
       "2005-01-05  14.66  14.42  14.63  14.43  11376200.0   9.095345\n",
       "2005-01-06  14.52  14.37  14.40  14.45   6672600.0   9.107950"
      ]
     },
     "execution_count": 4,
     "metadata": {},
     "output_type": "execute_result"
    }
   ],
   "source": [
    "from pandas_datareader import data as wb\n",
    "F = wb.DataReader('F', data_source='yahoo', start='2005-1-1')\n",
    "F.head()"
   ]
  },
  {
   "cell_type": "markdown",
   "metadata": {},
   "source": [
    "Use the “info” method to obtain basic statistics, regarding the data you extracted in the previous exercise (data from Yahoo Finance for Ford starting from the 1st of January 2005 until today). "
   ]
  },
  {
   "cell_type": "code",
   "execution_count": 5,
   "metadata": {
    "tags": []
   },
   "outputs": [
    {
     "name": "stdout",
     "output_type": "stream",
     "text": [
      "<class 'pandas.core.frame.DataFrame'>\n",
      "DatetimeIndex: 4237 entries, 2004-12-31 to 2021-10-28\n",
      "Data columns (total 6 columns):\n",
      " #   Column     Non-Null Count  Dtype  \n",
      "---  ------     --------------  -----  \n",
      " 0   High       4237 non-null   float64\n",
      " 1   Low        4237 non-null   float64\n",
      " 2   Open       4237 non-null   float64\n",
      " 3   Close      4237 non-null   float64\n",
      " 4   Volume     4237 non-null   float64\n",
      " 5   Adj Close  4237 non-null   float64\n",
      "dtypes: float64(6)\n",
      "memory usage: 231.7 KB\n"
     ]
    }
   ],
   "source": [
    "F.info()"
   ]
  },
  {
   "cell_type": "markdown",
   "metadata": {},
   "source": [
    "Apply the “head” and “tail” methods and observe the output. How would you interpret the adjusted closing prices?"
   ]
  },
  {
   "cell_type": "code",
   "execution_count": null,
   "metadata": {
    "collapsed": true,
    "jupyter": {
     "outputs_hidden": true
    }
   },
   "outputs": [],
   "source": [
    "F.head()"
   ]
  },
  {
   "cell_type": "code",
   "execution_count": null,
   "metadata": {
    "tags": []
   },
   "outputs": [],
   "source": [
    "F.tail()"
   ]
  },
  {
   "cell_type": "markdown",
   "metadata": {},
   "source": [
    "Practice extracting adjusted closing price data from the same source and for the same timeframe. Do this for Apple, Microsoft, Exxon, and British Petroleum. \n",
    "Use Google to find the tickers of these companies, if you don’t already know them. "
   ]
  },
  {
   "cell_type": "code",
   "execution_count": 8,
   "metadata": {
    "tags": []
   },
   "outputs": [
    {
     "data": {
      "text/plain": [
       "Date\n",
       "2004-12-31     9.227711\n",
       "2005-01-03     9.271832\n",
       "2005-01-04     9.240316\n",
       "2005-01-05     9.095345\n",
       "2005-01-06     9.107950\n",
       "                ...    \n",
       "2021-10-22    16.280001\n",
       "2021-10-25    16.000000\n",
       "2021-10-26    15.940000\n",
       "2021-10-27    15.510000\n",
       "2021-10-28    16.904600\n",
       "Name: Adj Close, Length: 4237, dtype: float64"
      ]
     },
     "execution_count": 8,
     "metadata": {},
     "output_type": "execute_result"
    }
   ],
   "source": [
    "F['Adj Close']"
   ]
  },
  {
   "cell_type": "code",
   "execution_count": 13,
   "metadata": {},
   "outputs": [],
   "source": [
    "F.index = pd.to_datetime(F.index)"
   ]
  },
  {
   "cell_type": "code",
   "execution_count": null,
   "metadata": {},
   "outputs": [],
   "source": []
  },
  {
   "cell_type": "markdown",
   "metadata": {},
   "source": [
    "*****"
   ]
  },
  {
   "cell_type": "markdown",
   "metadata": {},
   "source": [
    "Repeat this exercise for any stock of interest to you. :)"
   ]
  }
 ],
 "metadata": {
  "kernelspec": {
   "display_name": "Python 3",
   "language": "python",
   "name": "python3"
  },
  "language_info": {
   "codemirror_mode": {
    "name": "ipython",
    "version": 3
   },
   "file_extension": ".py",
   "mimetype": "text/x-python",
   "name": "python",
   "nbconvert_exporter": "python",
   "pygments_lexer": "ipython3",
   "version": "3.8.8"
  }
 },
 "nbformat": 4,
 "nbformat_minor": 4
}
